{
 "cells": [
  {
   "cell_type": "code",
   "execution_count": null,
   "metadata": {},
   "outputs": [],
   "source": [
    "import os\n",
    "import pickle\n",
    "import matplotlib.pyplot as plt\n",
    "import h5py\n",
    "import mne\n",
    "import numpy as np\n",
    "\n",
    "MITmon_matrix7=[-1,'T7-FT9','FP1-F7',-1,'F7-T7','T7-P7',-1,'P7-O1','FP1-F3','F3-C3','C3-P3','P3-O1','FZ-CZ','CZ-PZ',-1,\n",
    "                'FP2-F4','F4-C4','C4-P4','P4-O2','FP2-F8',-1,-1,'F8-T8','T8-P8-0',-1,'P8-O2','FT10-T8', -1]\n",
    "Mon_matrix_col_no=7\n",
    "Mon_matrix_row_no=4 #row는 4로 고정\n",
    "with open('pickle_file/information.pickle', 'rb') as f:\n",
    "    information_dict = pickle.load(f)\n",
    "keylist=list(information_dict.keys())\n",
    "import pandas as pd"
   ]
  },
  {
   "cell_type": "code",
   "execution_count": null,
   "metadata": {},
   "outputs": [],
   "source": [
    "keylist=list(information_dict.keys())\n",
    "sz_dict = {}\n",
    "for j in range(0,24):   \n",
    "    sz_dict[j+1] = {}\n",
    "    start_list = []\n",
    "    sz_len_list = []\n",
    "    #h5f=h5py.File('/MIT_data/source/h5_file/stft/'+'chb'+str(keylist[j])+'_'+'data.h5','r')\n",
    "    #data=h5f['all_data/data']     \n",
    "   \n",
    "    for k in range(len(information_dict[keylist[j]]['new_sz_info_list'])): \n",
    "        sz_edf_num=information_dict[keylist[j]]['new_sz_info_list'][k][-1]       \n",
    "        before_time = 0\n",
    "        for ti in range(information_dict[keylist[j]]['new_sz_info_list'][k][-1]-1):\n",
    "            before_time = before_time + information_dict[keylist[j]]['time'][ti]\n",
    "        start = int(information_dict[keylist[j]]['new_sz_info_list'][k][0] + before_time)   \n",
    "        #print(start)\n",
    "        start_list.append(start)\n",
    "        sz_len_list.append(information_dict[keylist[j]]['new_sz_info_list'][k][1]-information_dict[keylist[j]]['new_sz_info_list'][k][0])\n",
    "    sz_dict[j+1]['start'] = start_list\n",
    "    sz_dict[j+1]['len'] = sz_len_list"
   ]
  },
  {
   "cell_type": "code",
   "execution_count": null,
   "metadata": {},
   "outputs": [],
   "source": []
  },
  {
   "cell_type": "code",
   "execution_count": null,
   "metadata": {},
   "outputs": [],
   "source": [
    "channel_order_list=['FP1-F7','F7-T7','T7-FT9','T7-P7','P7-O1','FP1-F3','F3-C3','FZ-CZ','C3-P3','P3-O1',\n",
    "                    'FP2-F4','F4-C4','CZ-PZ','C4-P4','P4-02','FP2-F8','F8-T8','T8-FT10','T8-P8','P8-02']\n",
    "t=[]\n",
    "for i in range(40):\n",
    "    t.append(i)\n",
    "t=np.array(t)\n",
    "g = []\n",
    "for i in range(15):\n",
    "    g.append(i)\n",
    "g=np.array(g)\n",
    "plt.rcParams['figure.figsize'] = (28,14)\n",
    "grid_list = []\n",
    "for j in range(5):\n",
    "    for i in range(4):   \n",
    "        grid_list.append((i,j))\n",
    "tmp=[0,4,8,12,16,1,5,9,13,17,2,6,10,14,18,3,7,11,15,19]\n",
    "for i in range(len(tmp)):\n",
    "    tmp[i] = tmp[i] + 1\n",
    "grid_list_5_4 = []\n",
    "for i in range(len(channel_order_list)):           \n",
    "    a=i % 5\n",
    "    b=int(i / 5)\n",
    "    grid_list_5_4.append([a,b,tmp[i]])\n",
    "\n"
   ]
  },
  {
   "cell_type": "code",
   "execution_count": null,
   "metadata": {
    "scrolled": true
   },
   "outputs": [],
   "source": [
    "sz_dict[1]"
   ]
  },
  {
   "cell_type": "code",
   "execution_count": null,
   "metadata": {},
   "outputs": [],
   "source": [
    "num = 1\n",
    "h5_start = 90925\n",
    "\n",
    "test=h5py.File('h5_file/stft_filter/'+'chb'+str(num)+'_'+'data.h5','r')\n",
    "test_x=test['all_data/data'] \n",
    "\n",
    "fig = plt.figure()\n",
    "for a in range(len(grid_list)):    \n",
    "    ax1 =plt.subplot(5,4, grid_list_5_4[a][-1])      \n",
    "\n",
    "    try_=test_x[:15,h5_start-20:h5_start+20,grid_list_5_4[a][0],grid_list_5_4[a][1]]     \n",
    "    plt.title(channel_order_list[a])\n",
    "    plt.pcolormesh(t, g, try_) \n",
    "plt.show()"
   ]
  },
  {
   "cell_type": "code",
   "execution_count": null,
   "metadata": {},
   "outputs": [],
   "source": [
    "num = 1\n",
    "h5_start = 90925\n",
    "\n",
    "test=h5py.File('h5_file/stft_filter/'+'chb'+str(num)+'_'+'data.h5','r')\n",
    "test_x=test['all_data/data'] \n",
    "\n",
    "fig = plt.figure()   \n",
    "   \n",
    "\n",
    "try_=test_x[:15,h5_start-20:h5_start+20,grid_list_5_4[a][0],grid_list_5_4[a][1]]     \n",
    "plt.title(channel_order_list[a])\n",
    "plt.pcolormesh(t, g, try_) \n",
    "plt.show()"
   ]
  },
  {
   "cell_type": "code",
   "execution_count": null,
   "metadata": {},
   "outputs": [],
   "source": [
    "grid_list_5_4"
   ]
  },
  {
   "cell_type": "code",
   "execution_count": null,
   "metadata": {},
   "outputs": [],
   "source": [
    "channel_order_list"
   ]
  },
  {
   "cell_type": "code",
   "execution_count": null,
   "metadata": {},
   "outputs": [],
   "source": []
  }
 ],
 "metadata": {
  "kernelspec": {
   "display_name": "Python 3 (ipykernel)",
   "language": "python",
   "name": "python3"
  },
  "language_info": {
   "codemirror_mode": {
    "name": "ipython",
    "version": 3
   },
   "file_extension": ".py",
   "mimetype": "text/x-python",
   "name": "python",
   "nbconvert_exporter": "python",
   "pygments_lexer": "ipython3",
   "version": "3.11.2"
  }
 },
 "nbformat": 4,
 "nbformat_minor": 2
}
